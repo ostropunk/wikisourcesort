{
 "cells": [
  {
   "cell_type": "code",
   "execution_count": 1,
   "id": "3606ec97",
   "metadata": {},
   "outputs": [],
   "source": [
    "import pandas as pd\n",
    "import re"
   ]
  },
  {
   "cell_type": "code",
   "execution_count": 2,
   "id": "ee4feace",
   "metadata": {},
   "outputs": [],
   "source": [
    "def get_excel_dict(excelfile, key=None, index_col=0, header=0):\n",
    "    dataframe = pd.read_excel(excelfile, index_col=index_col, header=header)\n",
    "    dictionary = dataframe.to_dict()\n",
    "    if key is None:\n",
    "        return dictionary\n",
    "    else:\n",
    "        return dictionary[key]\n",
    "    \n",
    "    "
   ]
  },
  {
   "cell_type": "code",
   "execution_count": 3,
   "id": "7cbb3a88",
   "metadata": {},
   "outputs": [],
   "source": [
    "def textreader(text):\n",
    "    '''Opens textfile and returns the content as a string'''\n",
    "    with open(text, 'rt', encoding=\"utf8\") as wiki:\n",
    "        txtstring = wiki.read()\n",
    "    return txtstring"
   ]
  },
  {
   "cell_type": "code",
   "execution_count": 44,
   "id": "46f1ccf3",
   "metadata": {},
   "outputs": [],
   "source": [
    "def replace_from_dict(text, dictionary):\n",
    "    '''Replaces words in text with new words in dictionary'''\n",
    "    for word in dictionary:\n",
    "        text = text.replace(word, dictionary[word])\n",
    "    return text"
   ]
  },
  {
   "cell_type": "code",
   "execution_count": 172,
   "id": "5fb5a2de",
   "metadata": {},
   "outputs": [],
   "source": [
    "def get_ref(text):\n",
    "    '''\n",
    "       Finds references between the <ref>- and </ref>-tags \n",
    "       and returns them as a list of strings\n",
    "    '''\n",
    "    ref = re.findall(\"\\<ref.+?\\<\\/ref\\>\", text)\n",
    "    return ref"
   ]
  },
  {
   "cell_type": "code",
   "execution_count": 171,
   "id": "0cf45873",
   "metadata": {},
   "outputs": [],
   "source": [
    "def getrefurl(ref):\n",
    "    '''Finds the reference url in references and returns it as a string'''\n",
    "    url = re.search(\"http.+?(?=\\s|\\|title=|\\|titel|\\}\\})\", ref)\n",
    "    url = url.group()\n",
    "    return url"
   ]
  },
  {
   "cell_type": "code",
   "execution_count": 30,
   "id": "ca92646a",
   "metadata": {},
   "outputs": [],
   "source": [
    "def get_domain_name(url):\n",
    "    '''\n",
    "    Finds the domain name of the reference url and \n",
    "    returns that name as a string.\n",
    "    '''\n",
    "    domain_name = re.search('(?<=\\/\\/).+?(?=\\/)', url)\n",
    "    domain_name = domain_name.group()\n",
    "    if domain_name.startswith('www.'):\n",
    "        domain_name = domain_name.replace('www.', '')\n",
    "    return domain_name"
   ]
  },
  {
   "cell_type": "code",
   "execution_count": 32,
   "id": "11891d71-431c-4fd8-bbf0-1a85043d85fc",
   "metadata": {},
   "outputs": [],
   "source": [
    "def update_ref_dict(ref, ref_dict, ref_counts):\n",
    "    refurl = getrefurl(ref)\n",
    "    domain_name = get_domain_name(refurl)\n",
    "    if refurl not in ref_dict:\n",
    "        if domain_name not in ref_counts: \n",
    "            ref_counts.update({domain_name:1})\n",
    "            refname = domain_name + '.' + str(ref_counts[domain_name])\n",
    "        else:\n",
    "            ref_counts[domain_name] = ref_counts[domain_name] + 1\n",
    "            refname = domain_name + '.' + str(ref_counts[domain_name])\n",
    "        ref_dict.update({refurl:{'refs': [ref], 'refname': refname, 'refurl': refurl}})\n",
    "    else:\n",
    "        if ref not in ref_dict[refurl]['refs']:\n",
    "            ref_dict[refurl]['refs'].append(ref)\n",
    "    return ref_dict, ref_counts"
   ]
  },
  {
   "cell_type": "code",
   "execution_count": 36,
   "id": "9e20ee59",
   "metadata": {},
   "outputs": [],
   "source": [
    "def create_ref_dict(refs):\n",
    "    '''\n",
    "    Takes a list of references, extracts the reference url and name, \n",
    "    and returns a dictionary sorted on the referenceurl as key.\n",
    "    '''\n",
    "    ref_dict = {}\n",
    "    ref_counts = {}\n",
    "    for ref in refs:\n",
    "        ref_dict, ref_counts = update_ref_dict(ref, ref_dict, ref_counts)\n",
    "    return ref_dict\n",
    "    "
   ]
  },
  {
   "cell_type": "code",
   "execution_count": 79,
   "id": "46ec4c27-51b2-42c7-aeb2-ab96b06dcec1",
   "metadata": {},
   "outputs": [],
   "source": [
    "def get_ref_tag(text):\n",
    "    '''\n",
    "       Finds references between the <ref>- and </ref>-tags \n",
    "       and returns them as a list of strings\n",
    "    '''\n",
    "    ref = re.findall(\"\\<ref name\\=.+?\\/\\>\", text)\n",
    "    #ref = re.findall(\"\\<ref.+?\\<\\/ref\\>|\\<ref name\\=.+?\\/\\>\", text)\n",
    "    #ref = re.findall(\"\\<ref.+?(?!\\\"\\s\\/\\>)\\<\\/ref>\", text)\n",
    "    #ref = re.findall(\"\\<ref.+?\\<\\/ref\\>\", text)\n",
    "    return set(ref)"
   ]
  },
  {
   "cell_type": "code",
   "execution_count": 130,
   "id": "a9835204-d14e-4ce5-ad32-084f97f9cb49",
   "metadata": {},
   "outputs": [],
   "source": [
    "def get_spec_ref(text, ref_tag):\n",
    "    '''\n",
    "       Finds references between the <ref>- and </ref>-tags \n",
    "       and returns them as a list of strings\n",
    "    '''\n",
    "    #ref = re.findall(\"\\<ref name\\=.+?\\/\\>\", text)\n",
    "    #ref = re.findall(\"\\<ref.+?\\<\\/ref\\>|\\<ref name\\=.+?\\/\\>\", text)\n",
    "    #ref = re.findall(\"\\<ref.+?(?!\\\"\\s\\/\\>)\\<\\/ref>\", text)\n",
    "    ref = re.findall(f'\\<ref name\\=\\\"{ref_tag}\\\"\\>.+?\\<\\/ref\\>', text)\n",
    "    ref = ref[0]\n",
    "    return ref"
   ]
  },
  {
   "cell_type": "code",
   "execution_count": 115,
   "id": "a2549fe0-6264-47dd-b643-6e7f54500a29",
   "metadata": {},
   "outputs": [],
   "source": [
    "def get_ref_tag_name(ref_tag):\n",
    "    ref_tag_name = re.findall('\\\".+\\\"', ref_tag)\n",
    "    ref_tag_name = ref_tag_name[0].replace('\"', '')\n",
    "    return ref_tag_name"
   ]
  },
  {
   "cell_type": "code",
   "execution_count": 136,
   "id": "964e4023-f23c-4e72-a026-42cff798144e",
   "metadata": {},
   "outputs": [],
   "source": [
    "def replace_tags(text):\n",
    "    ref_tags = get_ref_tag(text)\n",
    "    for tag in ref_tags:\n",
    "        name = get_ref_tag_name(tag)\n",
    "        spec_ref = get_spec_ref(text, name)\n",
    "        text = text.replace(tag, spec_ref)\n",
    "    return text"
   ]
  },
  {
   "cell_type": "code",
   "execution_count": 49,
   "id": "81725f88-c491-49e4-b086-b22f6f4d6ce4",
   "metadata": {},
   "outputs": [],
   "source": [
    "def replace_countries(text):\n",
    "    countries = get_excel_dict('countries2.xlsx', 'Länder')\n",
    "    text = replace_from_dict(text, countries)\n",
    "    return text"
   ]
  },
  {
   "cell_type": "code",
   "execution_count": 66,
   "id": "ad5ea2d3-b4e3-4956-9059-75827baa8d18",
   "metadata": {},
   "outputs": [],
   "source": [
    "def replace_headers(text):\n",
    "    headers = {'English title':'Engelsk titel', \n",
    "               'Original title':'Originaltitel', \n",
    "               'Director(s)':'Regissör(er)', \n",
    "               'Country':'Land', \n",
    "               'School':'Skola'}\n",
    "    text = replace_from_dict(text, headers)\n",
    "    return text"
   ]
  },
  {
   "cell_type": "code",
   "execution_count": 169,
   "id": "79098b57",
   "metadata": {},
   "outputs": [],
   "source": [
    "def reference_sorter(text):\n",
    "    '''\n",
    "    Does a bunch of stuff that should be broken out in different functions.\n",
    "    '''\n",
    "    references = get_ref(text)\n",
    "    reference_dict = create_ref_dict(references)\n",
    "    reference_list =  []\n",
    "    reference_text = '== Referenser ==\\n<references>\\n'\n",
    "\n",
    "    text = text.replace('== Källor ==', '== Referenser ==')\n",
    "    text = text.replace('<references/>', '')\n",
    "\n",
    "    for entry in reference_dict:\n",
    "        for reference in reference_dict[entry]['refs']:\n",
    "            text = text.replace(reference, '<ref name=\"{}\" />'.format(reference_dict[entry]['refname']))\n",
    "        reference_list.append('<ref name=\"{}\">{}</ref>'.format(reference_dict[entry]['refname'], entry))\n",
    "    for reference in reference_list:\n",
    "        reference_text += reference +'\\n'\n",
    "    reference_text += '</references>'\n",
    "    text = re.split('== Referenser ==', text)\n",
    "    text = text[0] + reference_text + text[-1]\n",
    "\n",
    "    return text"
   ]
  },
  {
   "cell_type": "code",
   "execution_count": 134,
   "id": "5c27ccd9-5e4c-477e-977a-7026c7c95092",
   "metadata": {},
   "outputs": [],
   "source": [
    "def fix_wiki_entry(textfile):\n",
    "    with open(textfile, 'r', encoding=\"utf8\") as txt:\n",
    "        text = txt.read()\n",
    "        text = replace_tags(text)\n",
    "        text = reference_sorter(text)\n",
    "        text = replace_countries(text)\n",
    "        text = replace_headers(text)\n",
    "        with open('new_' + textfile, 'w', encoding='utf8') as new_text:\n",
    "            new_text.write(text)\n",
    "        return text\n",
    "        "
   ]
  },
  {
   "cell_type": "code",
   "execution_count": 173,
   "id": "1b529ea5",
   "metadata": {},
   "outputs": [
    {
     "name": "stdin",
     "output_type": "stream",
     "text": [
      "Please enter input textfile: new_wiki.txt\n"
     ]
    },
    {
     "ename": "IndexError",
     "evalue": "list index out of range",
     "output_type": "error",
     "traceback": [
      "\u001b[1;31m---------------------------------------------------------------------------\u001b[0m",
      "\u001b[1;31mIndexError\u001b[0m                                Traceback (most recent call last)",
      "\u001b[1;32m~\\AppData\\Local\\Temp/ipykernel_20484/2918637352.py\u001b[0m in \u001b[0;36m<module>\u001b[1;34m\u001b[0m\n\u001b[0;32m      3\u001b[0m \u001b[1;33m\u001b[0m\u001b[0m\n\u001b[0;32m      4\u001b[0m \u001b[1;32mif\u001b[0m \u001b[0m__name__\u001b[0m \u001b[1;33m==\u001b[0m \u001b[1;34m\"__main__\"\u001b[0m\u001b[1;33m:\u001b[0m\u001b[1;33m\u001b[0m\u001b[1;33m\u001b[0m\u001b[0m\n\u001b[1;32m----> 5\u001b[1;33m     \u001b[0mmain\u001b[0m\u001b[1;33m(\u001b[0m\u001b[1;33m)\u001b[0m\u001b[1;33m\u001b[0m\u001b[1;33m\u001b[0m\u001b[0m\n\u001b[0m\u001b[0;32m      6\u001b[0m \u001b[1;33m\u001b[0m\u001b[0m\n",
      "\u001b[1;32m~\\AppData\\Local\\Temp/ipykernel_20484/2918637352.py\u001b[0m in \u001b[0;36mmain\u001b[1;34m()\u001b[0m\n\u001b[0;32m      1\u001b[0m \u001b[1;32mdef\u001b[0m \u001b[0mmain\u001b[0m\u001b[1;33m(\u001b[0m\u001b[1;33m)\u001b[0m\u001b[1;33m:\u001b[0m\u001b[1;33m\u001b[0m\u001b[1;33m\u001b[0m\u001b[0m\n\u001b[1;32m----> 2\u001b[1;33m     \u001b[0mfix_wiki_entry\u001b[0m\u001b[1;33m(\u001b[0m\u001b[0minput\u001b[0m\u001b[1;33m(\u001b[0m\u001b[1;34m'Please enter input textfile:'\u001b[0m\u001b[1;33m)\u001b[0m\u001b[1;33m)\u001b[0m\u001b[1;33m\u001b[0m\u001b[1;33m\u001b[0m\u001b[0m\n\u001b[0m\u001b[0;32m      3\u001b[0m \u001b[1;33m\u001b[0m\u001b[0m\n\u001b[0;32m      4\u001b[0m \u001b[1;32mif\u001b[0m \u001b[0m__name__\u001b[0m \u001b[1;33m==\u001b[0m \u001b[1;34m\"__main__\"\u001b[0m\u001b[1;33m:\u001b[0m\u001b[1;33m\u001b[0m\u001b[1;33m\u001b[0m\u001b[0m\n\u001b[0;32m      5\u001b[0m     \u001b[0mmain\u001b[0m\u001b[1;33m(\u001b[0m\u001b[1;33m)\u001b[0m\u001b[1;33m\u001b[0m\u001b[1;33m\u001b[0m\u001b[0m\n",
      "\u001b[1;32m~\\AppData\\Local\\Temp/ipykernel_20484/2669008928.py\u001b[0m in \u001b[0;36mfix_wiki_entry\u001b[1;34m(textfile)\u001b[0m\n\u001b[0;32m      2\u001b[0m     \u001b[1;32mwith\u001b[0m \u001b[0mopen\u001b[0m\u001b[1;33m(\u001b[0m\u001b[0mtextfile\u001b[0m\u001b[1;33m,\u001b[0m \u001b[1;34m'r'\u001b[0m\u001b[1;33m,\u001b[0m \u001b[0mencoding\u001b[0m\u001b[1;33m=\u001b[0m\u001b[1;34m\"utf8\"\u001b[0m\u001b[1;33m)\u001b[0m \u001b[1;32mas\u001b[0m \u001b[0mtxt\u001b[0m\u001b[1;33m:\u001b[0m\u001b[1;33m\u001b[0m\u001b[1;33m\u001b[0m\u001b[0m\n\u001b[0;32m      3\u001b[0m         \u001b[0mtext\u001b[0m \u001b[1;33m=\u001b[0m \u001b[0mtxt\u001b[0m\u001b[1;33m.\u001b[0m\u001b[0mread\u001b[0m\u001b[1;33m(\u001b[0m\u001b[1;33m)\u001b[0m\u001b[1;33m\u001b[0m\u001b[1;33m\u001b[0m\u001b[0m\n\u001b[1;32m----> 4\u001b[1;33m         \u001b[0mtext\u001b[0m \u001b[1;33m=\u001b[0m \u001b[0mreplace_tags\u001b[0m\u001b[1;33m(\u001b[0m\u001b[0mtext\u001b[0m\u001b[1;33m)\u001b[0m\u001b[1;33m\u001b[0m\u001b[1;33m\u001b[0m\u001b[0m\n\u001b[0m\u001b[0;32m      5\u001b[0m         \u001b[0mtext\u001b[0m \u001b[1;33m=\u001b[0m \u001b[0mreference_sorter\u001b[0m\u001b[1;33m(\u001b[0m\u001b[0mtext\u001b[0m\u001b[1;33m)\u001b[0m\u001b[1;33m\u001b[0m\u001b[1;33m\u001b[0m\u001b[0m\n\u001b[0;32m      6\u001b[0m         \u001b[0mtext\u001b[0m \u001b[1;33m=\u001b[0m \u001b[0mreplace_countries\u001b[0m\u001b[1;33m(\u001b[0m\u001b[0mtext\u001b[0m\u001b[1;33m)\u001b[0m\u001b[1;33m\u001b[0m\u001b[1;33m\u001b[0m\u001b[0m\n",
      "\u001b[1;32m~\\AppData\\Local\\Temp/ipykernel_20484/3769351825.py\u001b[0m in \u001b[0;36mreplace_tags\u001b[1;34m(text)\u001b[0m\n\u001b[0;32m      3\u001b[0m     \u001b[1;32mfor\u001b[0m \u001b[0mtag\u001b[0m \u001b[1;32min\u001b[0m \u001b[0mref_tags\u001b[0m\u001b[1;33m:\u001b[0m\u001b[1;33m\u001b[0m\u001b[1;33m\u001b[0m\u001b[0m\n\u001b[0;32m      4\u001b[0m         \u001b[0mname\u001b[0m \u001b[1;33m=\u001b[0m \u001b[0mget_ref_tag_name\u001b[0m\u001b[1;33m(\u001b[0m\u001b[0mtag\u001b[0m\u001b[1;33m)\u001b[0m\u001b[1;33m\u001b[0m\u001b[1;33m\u001b[0m\u001b[0m\n\u001b[1;32m----> 5\u001b[1;33m         \u001b[0mspec_ref\u001b[0m \u001b[1;33m=\u001b[0m \u001b[0mget_spec_ref\u001b[0m\u001b[1;33m(\u001b[0m\u001b[0mtext\u001b[0m\u001b[1;33m,\u001b[0m \u001b[0mname\u001b[0m\u001b[1;33m)\u001b[0m\u001b[1;33m\u001b[0m\u001b[1;33m\u001b[0m\u001b[0m\n\u001b[0m\u001b[0;32m      6\u001b[0m         \u001b[0mtext\u001b[0m \u001b[1;33m=\u001b[0m \u001b[0mtext\u001b[0m\u001b[1;33m.\u001b[0m\u001b[0mreplace\u001b[0m\u001b[1;33m(\u001b[0m\u001b[0mtag\u001b[0m\u001b[1;33m,\u001b[0m \u001b[0mspec_ref\u001b[0m\u001b[1;33m)\u001b[0m\u001b[1;33m\u001b[0m\u001b[1;33m\u001b[0m\u001b[0m\n\u001b[0;32m      7\u001b[0m     \u001b[1;32mreturn\u001b[0m \u001b[0mtext\u001b[0m\u001b[1;33m\u001b[0m\u001b[1;33m\u001b[0m\u001b[0m\n",
      "\u001b[1;32m~\\AppData\\Local\\Temp/ipykernel_20484/4292190845.py\u001b[0m in \u001b[0;36mget_spec_ref\u001b[1;34m(text, ref_tag)\u001b[0m\n\u001b[0;32m      8\u001b[0m     \u001b[1;31m#ref = re.findall(\"\\<ref.+?(?!\\\"\\s\\/\\>)\\<\\/ref>\", text)\u001b[0m\u001b[1;33m\u001b[0m\u001b[1;33m\u001b[0m\u001b[0m\n\u001b[0;32m      9\u001b[0m     \u001b[0mref\u001b[0m \u001b[1;33m=\u001b[0m \u001b[0mre\u001b[0m\u001b[1;33m.\u001b[0m\u001b[0mfindall\u001b[0m\u001b[1;33m(\u001b[0m\u001b[1;34mf'\\<ref name\\=\\\"{ref_tag}\\\"\\>.+?\\<\\/ref\\>'\u001b[0m\u001b[1;33m,\u001b[0m \u001b[0mtext\u001b[0m\u001b[1;33m)\u001b[0m\u001b[1;33m\u001b[0m\u001b[1;33m\u001b[0m\u001b[0m\n\u001b[1;32m---> 10\u001b[1;33m     \u001b[0mref\u001b[0m \u001b[1;33m=\u001b[0m \u001b[0mref\u001b[0m\u001b[1;33m[\u001b[0m\u001b[1;36m0\u001b[0m\u001b[1;33m]\u001b[0m\u001b[1;33m\u001b[0m\u001b[1;33m\u001b[0m\u001b[0m\n\u001b[0m\u001b[0;32m     11\u001b[0m     \u001b[1;32mreturn\u001b[0m \u001b[0mref\u001b[0m\u001b[1;33m\u001b[0m\u001b[1;33m\u001b[0m\u001b[0m\n",
      "\u001b[1;31mIndexError\u001b[0m: list index out of range"
     ]
    }
   ],
   "source": [
    "def main():\n",
    "    fix_wiki_entry(input('Please enter input textfile:'))\n",
    "\n",
    "if __name__ == \"__main__\":\n",
    "    main()\n",
    "\n"
   ]
  }
 ],
 "metadata": {
  "kernelspec": {
   "display_name": "Python 3 (ipykernel)",
   "language": "python",
   "name": "python3"
  },
  "language_info": {
   "codemirror_mode": {
    "name": "ipython",
    "version": 3
   },
   "file_extension": ".py",
   "mimetype": "text/x-python",
   "name": "python",
   "nbconvert_exporter": "python",
   "pygments_lexer": "ipython3",
   "version": "3.10.0"
  }
 },
 "nbformat": 4,
 "nbformat_minor": 5
}
